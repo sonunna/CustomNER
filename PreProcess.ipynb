{
 "cells": [
  {
   "cell_type": "code",
   "execution_count": 20,
   "id": "3efcc22b",
   "metadata": {},
   "outputs": [],
   "source": [
    "import pandas as pd"
   ]
  },
  {
   "cell_type": "code",
   "execution_count": 21,
   "id": "75619701",
   "metadata": {},
   "outputs": [],
   "source": [
    "df = pd.read_json(\"updatedGpu.json\") "
   ]
  },
  {
   "cell_type": "code",
   "execution_count": 22,
   "id": "4d5eb7c9",
   "metadata": {},
   "outputs": [
    {
     "data": {
      "text/plain": [
       "[['Graphics Coprocessor', 'RTX 4070 SUPER'],\n",
       " ['Brand', 'GIGABYTE'],\n",
       " ['Graphics Ram Size', '12 GB'],\n",
       " ['GPU Clock Speed', '2565 MHz'],\n",
       " ['Video Output Interface', 'DisplayPort, HDMI']]"
      ]
     },
     "execution_count": 22,
     "metadata": {},
     "output_type": "execute_result"
    }
   ],
   "source": [
    "df['product_overview'][0]"
   ]
  },
  {
   "cell_type": "code",
   "execution_count": 23,
   "id": "e32b913d",
   "metadata": {},
   "outputs": [
    {
     "name": "stdout",
     "output_type": "stream",
     "text": [
      "<class 'pandas.core.frame.DataFrame'>\n",
      "RangeIndex: 1179 entries, 0 to 1178\n",
      "Data columns (total 7 columns):\n",
      " #   Column                Non-Null Count  Dtype \n",
      "---  ------                --------------  ----- \n",
      " 0   product_title         1179 non-null   object\n",
      " 1   product_overview      1179 non-null   object\n",
      " 2   product_features      1179 non-null   object\n",
      " 3   product_asin          1179 non-null   object\n",
      " 4   product_name          1179 non-null   object\n",
      " 5   product_description   1093 non-null   object\n",
      " 6   recommended_products  1179 non-null   object\n",
      "dtypes: object(7)\n",
      "memory usage: 64.6+ KB\n"
     ]
    }
   ],
   "source": [
    "df.info()"
   ]
  },
  {
   "cell_type": "code",
   "execution_count": 15,
   "id": "c68525a2",
   "metadata": {},
   "outputs": [],
   "source": [
    "df.to_excel(\"updatedGPU.xlsx\")"
   ]
  },
  {
   "cell_type": "code",
   "execution_count": 6,
   "id": "a9970b9d",
   "metadata": {},
   "outputs": [
    {
     "data": {
      "text/plain": [
       "1178"
      ]
     },
     "execution_count": 6,
     "metadata": {},
     "output_type": "execute_result"
    }
   ],
   "source": [
    "len(df['product_title'].unique())"
   ]
  },
  {
   "cell_type": "code",
   "execution_count": 19,
   "id": "2f7a7f97",
   "metadata": {},
   "outputs": [
    {
     "name": "stdout",
     "output_type": "stream",
     "text": [
      "true\n"
     ]
    }
   ],
   "source": [
    "if \"def\" in \"abc dfe def\":\n",
    "    print('true')"
   ]
  },
  {
   "cell_type": "code",
   "execution_count": null,
   "id": "fc2665b2",
   "metadata": {},
   "outputs": [],
   "source": []
  },
  {
   "cell_type": "code",
   "execution_count": null,
   "id": "8701eab9",
   "metadata": {},
   "outputs": [],
   "source": []
  },
  {
   "cell_type": "code",
   "execution_count": 15,
   "id": "388e0249",
   "metadata": {},
   "outputs": [
    {
     "data": {
      "text/plain": [
       "'The GeForce RTX™ 3050 is built with the powerful graphics performance of the NVIDIA Ampere architecture. It offers dedicated 2nd gen RT Cores and 3rd gen Tensor Cores, new streaming multiprocessors, and high-speed G6 memory to tackle the latest games. Step up to GeForce RTX.\\u200b The all-new NVIDIA Ampere architecture features new 2nd generation Ray Tracing Cores and 3rd generation Tensor Cores with greater throughput. \\u200b GeForce RTX™ 30 Series GPUs are powered by NVIDIA’s 2nd gen RTX architecture, delivering the ultimate performance, ray-traced graphics, and AI acceleration for gamers and creators.'"
      ]
     },
     "execution_count": 15,
     "metadata": {},
     "output_type": "execute_result"
    }
   ],
   "source": [
    "df['product_description'][20]"
   ]
  },
  {
   "cell_type": "code",
   "execution_count": 24,
   "id": "7a5ec8e1",
   "metadata": {},
   "outputs": [],
   "source": [
    "def list_to_dict(lst):\n",
    "    return {item[0]: item[1] for item in lst}\n",
    "\n",
    "# Apply the function to the 'product_overview' column\n",
    "df['product_overview_dict'] = df['product_overview'].apply(list_to_dict)"
   ]
  },
  {
   "cell_type": "code",
   "execution_count": 25,
   "id": "a907fe53",
   "metadata": {},
   "outputs": [
    {
     "data": {
      "text/plain": [
       "{'Graphics Coprocessor': 'RTX 4070 SUPER',\n",
       " 'Brand': 'GIGABYTE',\n",
       " 'Graphics Ram Size': '12 GB',\n",
       " 'GPU Clock Speed': '2565 MHz',\n",
       " 'Video Output Interface': 'DisplayPort, HDMI'}"
      ]
     },
     "execution_count": 25,
     "metadata": {},
     "output_type": "execute_result"
    }
   ],
   "source": [
    "df['product_overview_dict'][0]"
   ]
  },
  {
   "cell_type": "code",
   "execution_count": 26,
   "id": "d7780a4a",
   "metadata": {},
   "outputs": [],
   "source": [
    "def has_graphics_and_brand(dictionary):\n",
    "    return 'Graphics Coprocessor' in dictionary and 'Brand' in dictionary\n",
    "\n",
    "# Filter the DataFrame\n",
    "df_filtered = df[df['product_overview_dict'].apply(has_graphics_and_brand)]"
   ]
  },
  {
   "cell_type": "code",
   "execution_count": 27,
   "id": "fafb61ad",
   "metadata": {},
   "outputs": [
    {
     "name": "stdout",
     "output_type": "stream",
     "text": [
      "<class 'pandas.core.frame.DataFrame'>\n",
      "RangeIndex: 1179 entries, 0 to 1178\n",
      "Data columns (total 8 columns):\n",
      " #   Column                 Non-Null Count  Dtype \n",
      "---  ------                 --------------  ----- \n",
      " 0   product_title          1179 non-null   object\n",
      " 1   product_overview       1179 non-null   object\n",
      " 2   product_features       1179 non-null   object\n",
      " 3   product_asin           1179 non-null   object\n",
      " 4   product_name           1179 non-null   object\n",
      " 5   product_description    1093 non-null   object\n",
      " 6   recommended_products   1179 non-null   object\n",
      " 7   product_overview_dict  1179 non-null   object\n",
      "dtypes: object(8)\n",
      "memory usage: 73.8+ KB\n"
     ]
    }
   ],
   "source": [
    "df.info()"
   ]
  },
  {
   "cell_type": "code",
   "execution_count": 28,
   "id": "c012da9f",
   "metadata": {},
   "outputs": [
    {
     "name": "stdout",
     "output_type": "stream",
     "text": [
      "<class 'pandas.core.frame.DataFrame'>\n",
      "Index: 789 entries, 0 to 1178\n",
      "Data columns (total 8 columns):\n",
      " #   Column                 Non-Null Count  Dtype \n",
      "---  ------                 --------------  ----- \n",
      " 0   product_title          789 non-null    object\n",
      " 1   product_overview       789 non-null    object\n",
      " 2   product_features       789 non-null    object\n",
      " 3   product_asin           789 non-null    object\n",
      " 4   product_name           789 non-null    object\n",
      " 5   product_description    714 non-null    object\n",
      " 6   recommended_products   789 non-null    object\n",
      " 7   product_overview_dict  789 non-null    object\n",
      "dtypes: object(8)\n",
      "memory usage: 55.5+ KB\n"
     ]
    }
   ],
   "source": [
    "df_filtered.info()"
   ]
  },
  {
   "cell_type": "code",
   "execution_count": 31,
   "id": "f7f27710",
   "metadata": {},
   "outputs": [
    {
     "data": {
      "text/html": [
       "<div>\n",
       "<style scoped>\n",
       "    .dataframe tbody tr th:only-of-type {\n",
       "        vertical-align: middle;\n",
       "    }\n",
       "\n",
       "    .dataframe tbody tr th {\n",
       "        vertical-align: top;\n",
       "    }\n",
       "\n",
       "    .dataframe thead th {\n",
       "        text-align: right;\n",
       "    }\n",
       "</style>\n",
       "<table border=\"1\" class=\"dataframe\">\n",
       "  <thead>\n",
       "    <tr style=\"text-align: right;\">\n",
       "      <th></th>\n",
       "      <th>product_title</th>\n",
       "      <th>product_overview</th>\n",
       "      <th>product_features</th>\n",
       "      <th>product_asin</th>\n",
       "      <th>product_name</th>\n",
       "      <th>product_description</th>\n",
       "      <th>recommended_products</th>\n",
       "      <th>product_overview_dict</th>\n",
       "    </tr>\n",
       "  </thead>\n",
       "  <tbody>\n",
       "    <tr>\n",
       "      <th>0</th>\n",
       "      <td>GIGABYTE GeForce RTX 4070 Super Gaming OC 12G ...</td>\n",
       "      <td>[[Graphics Coprocessor, RTX 4070 SUPER], [Bran...</td>\n",
       "      <td>[Powered by GeForce RTX 4070 SUPER​, Integrate...</td>\n",
       "      <td>B0CSJWWDS7</td>\n",
       "      <td>GIGABYTE GeForce RTX 4070 Super Gaming OC 12G ...</td>\n",
       "      <td>From the manufacturer</td>\n",
       "      <td>[{'product_asin': 'B0BRR2R8HH', 'product_name'...</td>\n",
       "      <td>{'Graphics Coprocessor': 'RTX 4070 SUPER', 'Br...</td>\n",
       "    </tr>\n",
       "    <tr>\n",
       "      <th>1</th>\n",
       "      <td>NVIDIA Quadro 600 by PNY 1GB DDR3 PCI Express ...</td>\n",
       "      <td>[[Graphics Coprocessor, NVIDIA Quadro], [Brand...</td>\n",
       "      <td>[Frame Buffer Memory 1 GB DDR3, Memory Interfa...</td>\n",
       "      <td>B0046HUK3K</td>\n",
       "      <td>NVIDIA Quadro 600 by PNY 1GB DDR3 PCI Express ...</td>\n",
       "      <td>Product Description   NVIDIA Quadro 600 by PNY...</td>\n",
       "      <td>[{'product_asin': 'B001L7YKKC', 'product_name'...</td>\n",
       "      <td>{'Graphics Coprocessor': 'NVIDIA Quadro', 'Bra...</td>\n",
       "    </tr>\n",
       "    <tr>\n",
       "      <th>2</th>\n",
       "      <td>ASUS KO NVIDIA GeForce RTX 3070 OC Edition 8GB...</td>\n",
       "      <td>[[Graphics Coprocessor, NVIDIA GeForce RTX 307...</td>\n",
       "      <td>[NVIDIA Ampere Streaming Multiprocessors: The ...</td>\n",
       "      <td>B08MT6B58K</td>\n",
       "      <td>ASUS KO NVIDIA GeForce RTX 3070 OC Edition 8GB...</td>\n",
       "      <td>ASUS KO GeForce RTX™ 30 Series GPUs host the n...</td>\n",
       "      <td>[{'product_asin': 'B09CC36XXC', 'product_name'...</td>\n",
       "      <td>{'Graphics Coprocessor': 'NVIDIA GeForce RTX 3...</td>\n",
       "    </tr>\n",
       "    <tr>\n",
       "      <th>3</th>\n",
       "      <td>NVIDIA Quadro 2000D by PNY 1GB GDDR5 PCI Expre...</td>\n",
       "      <td>[[Graphics Coprocessor, NVIDIA Quadro], [Brand...</td>\n",
       "      <td>[Memory 1GB GDDR5, 192 CUDA Parallel Processin...</td>\n",
       "      <td>B004LNOMHO</td>\n",
       "      <td>NVIDIA Quadro 2000D by PNY 1GB GDDR5 PCI Expre...</td>\n",
       "      <td>Product Description   NVIDIA Quadro 2000D (DVI...</td>\n",
       "      <td>[{'product_asin': 'B001L7YKKC', 'product_name'...</td>\n",
       "      <td>{'Graphics Coprocessor': 'NVIDIA Quadro', 'Bra...</td>\n",
       "    </tr>\n",
       "    <tr>\n",
       "      <th>4</th>\n",
       "      <td>EVGA GeForce RTX 2060 SC, Overclocked, 2.75 Sl...</td>\n",
       "      <td>[[Graphics Coprocessor, NVIDIA GeForce RTX 206...</td>\n",
       "      <td>[The product will meet the expectations of pla...</td>\n",
       "      <td>B07MVNPKWN</td>\n",
       "      <td>EVGA GeForce RTX 2060 SC, Overclocked, 2.75 Sl...</td>\n",
       "      <td>EVGA GeForce RTX 20 Series graphics cards are ...</td>\n",
       "      <td>[{'product_asin': 'B08LHC5B2K', 'product_name'...</td>\n",
       "      <td>{'Graphics Coprocessor': 'NVIDIA GeForce RTX 2...</td>\n",
       "    </tr>\n",
       "  </tbody>\n",
       "</table>\n",
       "</div>"
      ],
      "text/plain": [
       "                                       product_title  \\\n",
       "0  GIGABYTE GeForce RTX 4070 Super Gaming OC 12G ...   \n",
       "1  NVIDIA Quadro 600 by PNY 1GB DDR3 PCI Express ...   \n",
       "2  ASUS KO NVIDIA GeForce RTX 3070 OC Edition 8GB...   \n",
       "3  NVIDIA Quadro 2000D by PNY 1GB GDDR5 PCI Expre...   \n",
       "4  EVGA GeForce RTX 2060 SC, Overclocked, 2.75 Sl...   \n",
       "\n",
       "                                    product_overview  \\\n",
       "0  [[Graphics Coprocessor, RTX 4070 SUPER], [Bran...   \n",
       "1  [[Graphics Coprocessor, NVIDIA Quadro], [Brand...   \n",
       "2  [[Graphics Coprocessor, NVIDIA GeForce RTX 307...   \n",
       "3  [[Graphics Coprocessor, NVIDIA Quadro], [Brand...   \n",
       "4  [[Graphics Coprocessor, NVIDIA GeForce RTX 206...   \n",
       "\n",
       "                                    product_features product_asin  \\\n",
       "0  [Powered by GeForce RTX 4070 SUPER​, Integrate...   B0CSJWWDS7   \n",
       "1  [Frame Buffer Memory 1 GB DDR3, Memory Interfa...   B0046HUK3K   \n",
       "2  [NVIDIA Ampere Streaming Multiprocessors: The ...   B08MT6B58K   \n",
       "3  [Memory 1GB GDDR5, 192 CUDA Parallel Processin...   B004LNOMHO   \n",
       "4  [The product will meet the expectations of pla...   B07MVNPKWN   \n",
       "\n",
       "                                        product_name  \\\n",
       "0  GIGABYTE GeForce RTX 4070 Super Gaming OC 12G ...   \n",
       "1  NVIDIA Quadro 600 by PNY 1GB DDR3 PCI Express ...   \n",
       "2  ASUS KO NVIDIA GeForce RTX 3070 OC Edition 8GB...   \n",
       "3  NVIDIA Quadro 2000D by PNY 1GB GDDR5 PCI Expre...   \n",
       "4  EVGA GeForce RTX 2060 SC, Overclocked, 2.75 Sl...   \n",
       "\n",
       "                                 product_description  \\\n",
       "0                              From the manufacturer   \n",
       "1  Product Description   NVIDIA Quadro 600 by PNY...   \n",
       "2  ASUS KO GeForce RTX™ 30 Series GPUs host the n...   \n",
       "3  Product Description   NVIDIA Quadro 2000D (DVI...   \n",
       "4  EVGA GeForce RTX 20 Series graphics cards are ...   \n",
       "\n",
       "                                recommended_products  \\\n",
       "0  [{'product_asin': 'B0BRR2R8HH', 'product_name'...   \n",
       "1  [{'product_asin': 'B001L7YKKC', 'product_name'...   \n",
       "2  [{'product_asin': 'B09CC36XXC', 'product_name'...   \n",
       "3  [{'product_asin': 'B001L7YKKC', 'product_name'...   \n",
       "4  [{'product_asin': 'B08LHC5B2K', 'product_name'...   \n",
       "\n",
       "                               product_overview_dict  \n",
       "0  {'Graphics Coprocessor': 'RTX 4070 SUPER', 'Br...  \n",
       "1  {'Graphics Coprocessor': 'NVIDIA Quadro', 'Bra...  \n",
       "2  {'Graphics Coprocessor': 'NVIDIA GeForce RTX 3...  \n",
       "3  {'Graphics Coprocessor': 'NVIDIA Quadro', 'Bra...  \n",
       "4  {'Graphics Coprocessor': 'NVIDIA GeForce RTX 2...  "
      ]
     },
     "execution_count": 31,
     "metadata": {},
     "output_type": "execute_result"
    }
   ],
   "source": [
    "df_filtered.head()"
   ]
  },
  {
   "cell_type": "code",
   "execution_count": 30,
   "id": "c3a62f4a",
   "metadata": {},
   "outputs": [],
   "source": [
    "df_filtered = df_filtered.reset_index(drop=True)"
   ]
  },
  {
   "cell_type": "code",
   "execution_count": 27,
   "id": "7689b69b",
   "metadata": {},
   "outputs": [],
   "source": [
    "df_filtered.to_excel('filtered.xlsx')"
   ]
  },
  {
   "cell_type": "code",
   "execution_count": 23,
   "id": "2d9ac54e",
   "metadata": {},
   "outputs": [
    {
     "data": {
      "text/plain": [
       "789"
      ]
     },
     "execution_count": 23,
     "metadata": {},
     "output_type": "execute_result"
    }
   ],
   "source": [
    "len(df_filtered['product_title'].unique())"
   ]
  },
  {
   "cell_type": "code",
   "execution_count": 32,
   "id": "fb66800d",
   "metadata": {},
   "outputs": [],
   "source": [
    "def filter_keys(dictionary):\n",
    "    return {key: value for key, value in dictionary.items() if key in ['Graphics Coprocessor', 'Brand']}\n",
    "\n",
    "# Apply the function to the 'product_overview' column\n",
    "df_filtered['filtered_overview'] = df_filtered['product_overview_dict'].apply(filter_keys)"
   ]
  },
  {
   "cell_type": "code",
   "execution_count": 33,
   "id": "bedef6fc",
   "metadata": {},
   "outputs": [],
   "source": [
    "df_filtered['Graphics Coprocessor'] = df_filtered['filtered_overview'].apply(lambda x: x.get('Graphics Coprocessor', None))\n",
    "df_filtered['Brand'] = df_filtered['filtered_overview'].apply(lambda x: x.get('Brand', None))\n"
   ]
  },
  {
   "cell_type": "code",
   "execution_count": 34,
   "id": "d0589ca6",
   "metadata": {},
   "outputs": [],
   "source": [
    "df_filtered.drop(columns=['product_features','product_asin','product_name','product_description','recommended_products','product_overview','filtered_overview'],inplace=True)"
   ]
  },
  {
   "cell_type": "code",
   "execution_count": 30,
   "id": "3e4b4357",
   "metadata": {},
   "outputs": [],
   "source": [
    "df_filtered.drop(columns=['product_overview'],inplace=True)"
   ]
  },
  {
   "cell_type": "code",
   "execution_count": 35,
   "id": "fca3d666",
   "metadata": {},
   "outputs": [],
   "source": [
    "df_filtered.head()\n",
    "df_filtered.to_excel('updated_f.xlsx')"
   ]
  },
  {
   "cell_type": "code",
   "execution_count": 42,
   "id": "10834e98",
   "metadata": {},
   "outputs": [],
   "source": [
    "df=pd.read_excel('updated_f.xlsx')"
   ]
  },
  {
   "cell_type": "code",
   "execution_count": 43,
   "id": "f5448f51",
   "metadata": {},
   "outputs": [
    {
     "data": {
      "text/html": [
       "<div>\n",
       "<style scoped>\n",
       "    .dataframe tbody tr th:only-of-type {\n",
       "        vertical-align: middle;\n",
       "    }\n",
       "\n",
       "    .dataframe tbody tr th {\n",
       "        vertical-align: top;\n",
       "    }\n",
       "\n",
       "    .dataframe thead th {\n",
       "        text-align: right;\n",
       "    }\n",
       "</style>\n",
       "<table border=\"1\" class=\"dataframe\">\n",
       "  <thead>\n",
       "    <tr style=\"text-align: right;\">\n",
       "      <th></th>\n",
       "      <th>Unnamed: 0</th>\n",
       "      <th>product_title</th>\n",
       "      <th>product_overview_dict</th>\n",
       "      <th>Graphics Coprocessor</th>\n",
       "      <th>Brand</th>\n",
       "    </tr>\n",
       "  </thead>\n",
       "  <tbody>\n",
       "    <tr>\n",
       "      <th>0</th>\n",
       "      <td>0</td>\n",
       "      <td>GIGABYTE GeForce RTX 4070 Super Gaming OC 12G ...</td>\n",
       "      <td>{'Graphics Coprocessor': 'RTX 4070 SUPER', 'Br...</td>\n",
       "      <td>RTX 4070 SUPER</td>\n",
       "      <td>GIGABYTE</td>\n",
       "    </tr>\n",
       "    <tr>\n",
       "      <th>1</th>\n",
       "      <td>1</td>\n",
       "      <td>NVIDIA Quadro 600 by PNY 1GB DDR3 PCI Express ...</td>\n",
       "      <td>{'Graphics Coprocessor': 'NVIDIA Quadro', 'Bra...</td>\n",
       "      <td>NVIDIA Quadro</td>\n",
       "      <td>PNY</td>\n",
       "    </tr>\n",
       "    <tr>\n",
       "      <th>2</th>\n",
       "      <td>2</td>\n",
       "      <td>ASUS KO NVIDIA GeForce RTX 3070 OC Edition 8GB...</td>\n",
       "      <td>{'Graphics Coprocessor': 'NVIDIA GeForce RTX 3...</td>\n",
       "      <td>NVIDIA GeForce RTX 3070</td>\n",
       "      <td>ASUS</td>\n",
       "    </tr>\n",
       "    <tr>\n",
       "      <th>3</th>\n",
       "      <td>3</td>\n",
       "      <td>NVIDIA Quadro 2000D by PNY 1GB GDDR5 PCI Expre...</td>\n",
       "      <td>{'Graphics Coprocessor': 'NVIDIA Quadro', 'Bra...</td>\n",
       "      <td>NVIDIA Quadro</td>\n",
       "      <td>PNY</td>\n",
       "    </tr>\n",
       "    <tr>\n",
       "      <th>4</th>\n",
       "      <td>4</td>\n",
       "      <td>EVGA GeForce RTX 2060 SC, Overclocked, 2.75 Sl...</td>\n",
       "      <td>{'Graphics Coprocessor': 'NVIDIA GeForce RTX 2...</td>\n",
       "      <td>NVIDIA GeForce RTX 2060</td>\n",
       "      <td>EVGA</td>\n",
       "    </tr>\n",
       "  </tbody>\n",
       "</table>\n",
       "</div>"
      ],
      "text/plain": [
       "   Unnamed: 0                                      product_title  \\\n",
       "0           0  GIGABYTE GeForce RTX 4070 Super Gaming OC 12G ...   \n",
       "1           1  NVIDIA Quadro 600 by PNY 1GB DDR3 PCI Express ...   \n",
       "2           2  ASUS KO NVIDIA GeForce RTX 3070 OC Edition 8GB...   \n",
       "3           3  NVIDIA Quadro 2000D by PNY 1GB GDDR5 PCI Expre...   \n",
       "4           4  EVGA GeForce RTX 2060 SC, Overclocked, 2.75 Sl...   \n",
       "\n",
       "                               product_overview_dict     Graphics Coprocessor  \\\n",
       "0  {'Graphics Coprocessor': 'RTX 4070 SUPER', 'Br...           RTX 4070 SUPER   \n",
       "1  {'Graphics Coprocessor': 'NVIDIA Quadro', 'Bra...            NVIDIA Quadro   \n",
       "2  {'Graphics Coprocessor': 'NVIDIA GeForce RTX 3...  NVIDIA GeForce RTX 3070   \n",
       "3  {'Graphics Coprocessor': 'NVIDIA Quadro', 'Bra...            NVIDIA Quadro   \n",
       "4  {'Graphics Coprocessor': 'NVIDIA GeForce RTX 2...  NVIDIA GeForce RTX 2060   \n",
       "\n",
       "      Brand  \n",
       "0  GIGABYTE  \n",
       "1       PNY  \n",
       "2      ASUS  \n",
       "3       PNY  \n",
       "4      EVGA  "
      ]
     },
     "execution_count": 43,
     "metadata": {},
     "output_type": "execute_result"
    }
   ],
   "source": [
    "df.head()"
   ]
  },
  {
   "cell_type": "code",
   "execution_count": 44,
   "id": "2073f890",
   "metadata": {},
   "outputs": [],
   "source": [
    "unnamed_columns = [col for col in df.columns if 'Unnamed' in col]\n",
    "df.drop(columns=unnamed_columns,inplace=True)"
   ]
  },
  {
   "cell_type": "code",
   "execution_count": 45,
   "id": "762dcd44",
   "metadata": {},
   "outputs": [
    {
     "data": {
      "text/html": [
       "<div>\n",
       "<style scoped>\n",
       "    .dataframe tbody tr th:only-of-type {\n",
       "        vertical-align: middle;\n",
       "    }\n",
       "\n",
       "    .dataframe tbody tr th {\n",
       "        vertical-align: top;\n",
       "    }\n",
       "\n",
       "    .dataframe thead th {\n",
       "        text-align: right;\n",
       "    }\n",
       "</style>\n",
       "<table border=\"1\" class=\"dataframe\">\n",
       "  <thead>\n",
       "    <tr style=\"text-align: right;\">\n",
       "      <th></th>\n",
       "      <th>product_title</th>\n",
       "      <th>product_overview_dict</th>\n",
       "      <th>Graphics Coprocessor</th>\n",
       "      <th>Brand</th>\n",
       "    </tr>\n",
       "  </thead>\n",
       "  <tbody>\n",
       "    <tr>\n",
       "      <th>0</th>\n",
       "      <td>GIGABYTE GeForce RTX 4070 Super Gaming OC 12G ...</td>\n",
       "      <td>{'Graphics Coprocessor': 'RTX 4070 SUPER', 'Br...</td>\n",
       "      <td>RTX 4070 SUPER</td>\n",
       "      <td>GIGABYTE</td>\n",
       "    </tr>\n",
       "    <tr>\n",
       "      <th>1</th>\n",
       "      <td>NVIDIA Quadro 600 by PNY 1GB DDR3 PCI Express ...</td>\n",
       "      <td>{'Graphics Coprocessor': 'NVIDIA Quadro', 'Bra...</td>\n",
       "      <td>NVIDIA Quadro</td>\n",
       "      <td>PNY</td>\n",
       "    </tr>\n",
       "    <tr>\n",
       "      <th>2</th>\n",
       "      <td>ASUS KO NVIDIA GeForce RTX 3070 OC Edition 8GB...</td>\n",
       "      <td>{'Graphics Coprocessor': 'NVIDIA GeForce RTX 3...</td>\n",
       "      <td>NVIDIA GeForce RTX 3070</td>\n",
       "      <td>ASUS</td>\n",
       "    </tr>\n",
       "    <tr>\n",
       "      <th>3</th>\n",
       "      <td>NVIDIA Quadro 2000D by PNY 1GB GDDR5 PCI Expre...</td>\n",
       "      <td>{'Graphics Coprocessor': 'NVIDIA Quadro', 'Bra...</td>\n",
       "      <td>NVIDIA Quadro</td>\n",
       "      <td>PNY</td>\n",
       "    </tr>\n",
       "    <tr>\n",
       "      <th>4</th>\n",
       "      <td>EVGA GeForce RTX 2060 SC, Overclocked, 2.75 Sl...</td>\n",
       "      <td>{'Graphics Coprocessor': 'NVIDIA GeForce RTX 2...</td>\n",
       "      <td>NVIDIA GeForce RTX 2060</td>\n",
       "      <td>EVGA</td>\n",
       "    </tr>\n",
       "  </tbody>\n",
       "</table>\n",
       "</div>"
      ],
      "text/plain": [
       "                                       product_title  \\\n",
       "0  GIGABYTE GeForce RTX 4070 Super Gaming OC 12G ...   \n",
       "1  NVIDIA Quadro 600 by PNY 1GB DDR3 PCI Express ...   \n",
       "2  ASUS KO NVIDIA GeForce RTX 3070 OC Edition 8GB...   \n",
       "3  NVIDIA Quadro 2000D by PNY 1GB GDDR5 PCI Expre...   \n",
       "4  EVGA GeForce RTX 2060 SC, Overclocked, 2.75 Sl...   \n",
       "\n",
       "                               product_overview_dict     Graphics Coprocessor  \\\n",
       "0  {'Graphics Coprocessor': 'RTX 4070 SUPER', 'Br...           RTX 4070 SUPER   \n",
       "1  {'Graphics Coprocessor': 'NVIDIA Quadro', 'Bra...            NVIDIA Quadro   \n",
       "2  {'Graphics Coprocessor': 'NVIDIA GeForce RTX 3...  NVIDIA GeForce RTX 3070   \n",
       "3  {'Graphics Coprocessor': 'NVIDIA Quadro', 'Bra...            NVIDIA Quadro   \n",
       "4  {'Graphics Coprocessor': 'NVIDIA GeForce RTX 2...  NVIDIA GeForce RTX 2060   \n",
       "\n",
       "      Brand  \n",
       "0  GIGABYTE  \n",
       "1       PNY  \n",
       "2      ASUS  \n",
       "3       PNY  \n",
       "4      EVGA  "
      ]
     },
     "execution_count": 45,
     "metadata": {},
     "output_type": "execute_result"
    }
   ],
   "source": [
    "df.head()"
   ]
  },
  {
   "cell_type": "code",
   "execution_count": 53,
   "id": "5c0f8387",
   "metadata": {},
   "outputs": [],
   "source": [
    "import unicodedata\n",
    "import string\n",
    "from nltk.tokenize import word_tokenize\n",
    "def pre_process_text(text): #function to process raw text\n",
    "    text = unicodedata.normalize('NFKD', text).encode('ascii', 'ignore').decode('utf-8', 'ignore')\n",
    "    text = text.translate(str.maketrans('', '', string.punctuation)) # Removing punctuation\n",
    "    tokens = word_tokenize(text)# Tokenizing the text into words\n",
    "    tokens = [token.lower() for token in tokens]# Converting to lowercase\n",
    "    processed_text = ' '.join(tokens)# Join the words back into a single string\n",
    "    return processed_text\n"
   ]
  },
  {
   "cell_type": "code",
   "execution_count": 54,
   "id": "41654453",
   "metadata": {},
   "outputs": [],
   "source": [
    "df['processed_title'] = df['product_title'].apply(pre_process_text)"
   ]
  },
  {
   "cell_type": "code",
   "execution_count": 55,
   "id": "836ef66e",
   "metadata": {},
   "outputs": [],
   "source": [
    "df['processed_gc'] = df['Graphics Coprocessor'].apply(pre_process_text)"
   ]
  },
  {
   "cell_type": "code",
   "execution_count": 56,
   "id": "8d434b3d",
   "metadata": {},
   "outputs": [
    {
     "data": {
      "text/html": [
       "<div>\n",
       "<style scoped>\n",
       "    .dataframe tbody tr th:only-of-type {\n",
       "        vertical-align: middle;\n",
       "    }\n",
       "\n",
       "    .dataframe tbody tr th {\n",
       "        vertical-align: top;\n",
       "    }\n",
       "\n",
       "    .dataframe thead th {\n",
       "        text-align: right;\n",
       "    }\n",
       "</style>\n",
       "<table border=\"1\" class=\"dataframe\">\n",
       "  <thead>\n",
       "    <tr style=\"text-align: right;\">\n",
       "      <th></th>\n",
       "      <th>product_title</th>\n",
       "      <th>product_overview_dict</th>\n",
       "      <th>Graphics Coprocessor</th>\n",
       "      <th>Brand</th>\n",
       "      <th>processed_title</th>\n",
       "      <th>processed_gc</th>\n",
       "    </tr>\n",
       "  </thead>\n",
       "  <tbody>\n",
       "    <tr>\n",
       "      <th>0</th>\n",
       "      <td>GIGABYTE GeForce RTX 4070 Super Gaming OC 12G ...</td>\n",
       "      <td>{'Graphics Coprocessor': 'RTX 4070 SUPER', 'Br...</td>\n",
       "      <td>RTX 4070 SUPER</td>\n",
       "      <td>GIGABYTE</td>\n",
       "      <td>gigabyte geforce rtx 4070 super gaming oc 12g ...</td>\n",
       "      <td>rtx 4070 super</td>\n",
       "    </tr>\n",
       "    <tr>\n",
       "      <th>1</th>\n",
       "      <td>NVIDIA Quadro 600 by PNY 1GB DDR3 PCI Express ...</td>\n",
       "      <td>{'Graphics Coprocessor': 'NVIDIA Quadro', 'Bra...</td>\n",
       "      <td>NVIDIA Quadro</td>\n",
       "      <td>PNY</td>\n",
       "      <td>nvidia quadro 600 by pny 1gb ddr3 pci express ...</td>\n",
       "      <td>nvidia quadro</td>\n",
       "    </tr>\n",
       "    <tr>\n",
       "      <th>2</th>\n",
       "      <td>ASUS KO NVIDIA GeForce RTX 3070 OC Edition 8GB...</td>\n",
       "      <td>{'Graphics Coprocessor': 'NVIDIA GeForce RTX 3...</td>\n",
       "      <td>NVIDIA GeForce RTX 3070</td>\n",
       "      <td>ASUS</td>\n",
       "      <td>asus ko nvidia geforce rtx 3070 oc edition 8gb...</td>\n",
       "      <td>nvidia geforce rtx 3070</td>\n",
       "    </tr>\n",
       "    <tr>\n",
       "      <th>3</th>\n",
       "      <td>NVIDIA Quadro 2000D by PNY 1GB GDDR5 PCI Expre...</td>\n",
       "      <td>{'Graphics Coprocessor': 'NVIDIA Quadro', 'Bra...</td>\n",
       "      <td>NVIDIA Quadro</td>\n",
       "      <td>PNY</td>\n",
       "      <td>nvidia quadro 2000d by pny 1gb gddr5 pci expre...</td>\n",
       "      <td>nvidia quadro</td>\n",
       "    </tr>\n",
       "    <tr>\n",
       "      <th>4</th>\n",
       "      <td>EVGA GeForce RTX 2060 SC, Overclocked, 2.75 Sl...</td>\n",
       "      <td>{'Graphics Coprocessor': 'NVIDIA GeForce RTX 2...</td>\n",
       "      <td>NVIDIA GeForce RTX 2060</td>\n",
       "      <td>EVGA</td>\n",
       "      <td>evga geforce rtx 2060 sc overclocked 275 slot ...</td>\n",
       "      <td>nvidia geforce rtx 2060</td>\n",
       "    </tr>\n",
       "  </tbody>\n",
       "</table>\n",
       "</div>"
      ],
      "text/plain": [
       "                                       product_title  \\\n",
       "0  GIGABYTE GeForce RTX 4070 Super Gaming OC 12G ...   \n",
       "1  NVIDIA Quadro 600 by PNY 1GB DDR3 PCI Express ...   \n",
       "2  ASUS KO NVIDIA GeForce RTX 3070 OC Edition 8GB...   \n",
       "3  NVIDIA Quadro 2000D by PNY 1GB GDDR5 PCI Expre...   \n",
       "4  EVGA GeForce RTX 2060 SC, Overclocked, 2.75 Sl...   \n",
       "\n",
       "                               product_overview_dict     Graphics Coprocessor  \\\n",
       "0  {'Graphics Coprocessor': 'RTX 4070 SUPER', 'Br...           RTX 4070 SUPER   \n",
       "1  {'Graphics Coprocessor': 'NVIDIA Quadro', 'Bra...            NVIDIA Quadro   \n",
       "2  {'Graphics Coprocessor': 'NVIDIA GeForce RTX 3...  NVIDIA GeForce RTX 3070   \n",
       "3  {'Graphics Coprocessor': 'NVIDIA Quadro', 'Bra...            NVIDIA Quadro   \n",
       "4  {'Graphics Coprocessor': 'NVIDIA GeForce RTX 2...  NVIDIA GeForce RTX 2060   \n",
       "\n",
       "      Brand                                    processed_title  \\\n",
       "0  GIGABYTE  gigabyte geforce rtx 4070 super gaming oc 12g ...   \n",
       "1       PNY  nvidia quadro 600 by pny 1gb ddr3 pci express ...   \n",
       "2      ASUS  asus ko nvidia geforce rtx 3070 oc edition 8gb...   \n",
       "3       PNY  nvidia quadro 2000d by pny 1gb gddr5 pci expre...   \n",
       "4      EVGA  evga geforce rtx 2060 sc overclocked 275 slot ...   \n",
       "\n",
       "              processed_gc  \n",
       "0           rtx 4070 super  \n",
       "1            nvidia quadro  \n",
       "2  nvidia geforce rtx 3070  \n",
       "3            nvidia quadro  \n",
       "4  nvidia geforce rtx 2060  "
      ]
     },
     "execution_count": 56,
     "metadata": {},
     "output_type": "execute_result"
    }
   ],
   "source": [
    "df.head()"
   ]
  },
  {
   "cell_type": "code",
   "execution_count": 62,
   "id": "2f9e4dfb",
   "metadata": {},
   "outputs": [],
   "source": [
    "def find_max_substring(string1, string2,str3):\n",
    "    len1, len2 = len(string1), len(string2)\n",
    "    max_length = 0\n",
    "    start_index = 0\n",
    "    common_lengths = [[0] * (len2 + 1) for _ in range(len1 + 1)]\n",
    "    for i in range(1, len1 + 1):\n",
    "        for j in range(1, len2 + 1):\n",
    "            if string1[i - 1] == string2[j - 1]:\n",
    "                common_lengths[i][j] = common_lengths[i - 1][j - 1] + 1\n",
    "                if common_lengths[i][j] > max_length:\n",
    "                    max_length = common_lengths[i][j]\n",
    "                    start_index = i - max_length\n",
    "            else:\n",
    "                common_lengths[i][j] = 0\n",
    "    return [start_index, start_index + max_length,str3]"
   ]
  },
  {
   "cell_type": "code",
   "execution_count": 63,
   "id": "948a2f2b",
   "metadata": {},
   "outputs": [],
   "source": [
    "df['start_end_positions'] = df.apply(lambda row: find_max_substring(row['processed_title'],row['processed_gc'],'Coprocessor'), axis=1)\n"
   ]
  },
  {
   "cell_type": "code",
   "execution_count": 75,
   "id": "35d6624b",
   "metadata": {},
   "outputs": [
    {
     "data": {
      "text/plain": [
       "'evga geforce rtx 3080 xc3 ultra gaming 10gp53885kl 10gb gddr6x icx3 cooling argb led metal backplate lhr'"
      ]
     },
     "execution_count": 75,
     "metadata": {},
     "output_type": "execute_result"
    }
   ],
   "source": [
    "df['processed_title'][21]"
   ]
  },
  {
   "cell_type": "code",
   "execution_count": 78,
   "id": "97e60cc9",
   "metadata": {},
   "outputs": [
    {
     "data": {
      "text/plain": [
       "'nvidia quadro 600 by pny 1gb ddr3 pci express gen 2 x16 dvii dl and displayport opengl directx cuda and opencl professional graphics board vcq600pb'"
      ]
     },
     "execution_count": 78,
     "metadata": {},
     "output_type": "execute_result"
    }
   ],
   "source": [
    "df['processed_title'][1]"
   ]
  },
  {
   "cell_type": "code",
   "execution_count": 41,
   "id": "aed1859f",
   "metadata": {},
   "outputs": [],
   "source": [
    "df['brand_start_end_positions'] = df.apply(lambda row: find_max_substring(row['product_title'],row['Brand'],'Brand'), axis=1)\n"
   ]
  },
  {
   "cell_type": "code",
   "execution_count": 42,
   "id": "ecf6f5be",
   "metadata": {},
   "outputs": [
    {
     "data": {
      "text/html": [
       "<div>\n",
       "<style scoped>\n",
       "    .dataframe tbody tr th:only-of-type {\n",
       "        vertical-align: middle;\n",
       "    }\n",
       "\n",
       "    .dataframe tbody tr th {\n",
       "        vertical-align: top;\n",
       "    }\n",
       "\n",
       "    .dataframe thead th {\n",
       "        text-align: right;\n",
       "    }\n",
       "</style>\n",
       "<table border=\"1\" class=\"dataframe\">\n",
       "  <thead>\n",
       "    <tr style=\"text-align: right;\">\n",
       "      <th></th>\n",
       "      <th>Unnamed: 0</th>\n",
       "      <th>product_title</th>\n",
       "      <th>Graphics Coprocessor</th>\n",
       "      <th>Brand</th>\n",
       "      <th>start_end_positions</th>\n",
       "      <th>brand_start_end_positions</th>\n",
       "    </tr>\n",
       "  </thead>\n",
       "  <tbody>\n",
       "    <tr>\n",
       "      <th>0</th>\n",
       "      <td>0</td>\n",
       "      <td>GIGABYTE GeForce RTX 4070 Super Gaming OC 12G ...</td>\n",
       "      <td>RTX 4070 SUPER</td>\n",
       "      <td>GIGABYTE</td>\n",
       "      <td>[17, 26, Coprocessor]</td>\n",
       "      <td>[0, 7, Brand]</td>\n",
       "    </tr>\n",
       "    <tr>\n",
       "      <th>1</th>\n",
       "      <td>1</td>\n",
       "      <td>NVIDIA Quadro 600 by PNY 1GB DDR3 PCI Express ...</td>\n",
       "      <td>NVIDIA Quadro</td>\n",
       "      <td>PNY</td>\n",
       "      <td>[0, 12, Coprocessor]</td>\n",
       "      <td>[21, 23, Brand]</td>\n",
       "    </tr>\n",
       "    <tr>\n",
       "      <th>2</th>\n",
       "      <td>2</td>\n",
       "      <td>ASUS KO NVIDIA GeForce RTX 3070 OC Edition 8GB...</td>\n",
       "      <td>NVIDIA GeForce RTX 3070</td>\n",
       "      <td>ASUS</td>\n",
       "      <td>[8, 30, Coprocessor]</td>\n",
       "      <td>[0, 3, Brand]</td>\n",
       "    </tr>\n",
       "    <tr>\n",
       "      <th>3</th>\n",
       "      <td>3</td>\n",
       "      <td>NVIDIA Quadro 2000D by PNY 1GB GDDR5 PCI Expre...</td>\n",
       "      <td>NVIDIA Quadro</td>\n",
       "      <td>PNY</td>\n",
       "      <td>[0, 12, Coprocessor]</td>\n",
       "      <td>[23, 25, Brand]</td>\n",
       "    </tr>\n",
       "    <tr>\n",
       "      <th>4</th>\n",
       "      <td>4</td>\n",
       "      <td>EVGA GeForce RTX 2060 SC, Overclocked, 2.75 Sl...</td>\n",
       "      <td>NVIDIA GeForce RTX 2060</td>\n",
       "      <td>EVGA</td>\n",
       "      <td>[3, 20, Coprocessor]</td>\n",
       "      <td>[0, 3, Brand]</td>\n",
       "    </tr>\n",
       "  </tbody>\n",
       "</table>\n",
       "</div>"
      ],
      "text/plain": [
       "   Unnamed: 0                                      product_title  \\\n",
       "0           0  GIGABYTE GeForce RTX 4070 Super Gaming OC 12G ...   \n",
       "1           1  NVIDIA Quadro 600 by PNY 1GB DDR3 PCI Express ...   \n",
       "2           2  ASUS KO NVIDIA GeForce RTX 3070 OC Edition 8GB...   \n",
       "3           3  NVIDIA Quadro 2000D by PNY 1GB GDDR5 PCI Expre...   \n",
       "4           4  EVGA GeForce RTX 2060 SC, Overclocked, 2.75 Sl...   \n",
       "\n",
       "      Graphics Coprocessor     Brand    start_end_positions  \\\n",
       "0           RTX 4070 SUPER  GIGABYTE  [17, 26, Coprocessor]   \n",
       "1            NVIDIA Quadro       PNY   [0, 12, Coprocessor]   \n",
       "2  NVIDIA GeForce RTX 3070      ASUS   [8, 30, Coprocessor]   \n",
       "3            NVIDIA Quadro       PNY   [0, 12, Coprocessor]   \n",
       "4  NVIDIA GeForce RTX 2060      EVGA   [3, 20, Coprocessor]   \n",
       "\n",
       "  brand_start_end_positions  \n",
       "0             [0, 7, Brand]  \n",
       "1           [21, 23, Brand]  \n",
       "2             [0, 3, Brand]  \n",
       "3           [23, 25, Brand]  \n",
       "4             [0, 3, Brand]  "
      ]
     },
     "execution_count": 42,
     "metadata": {},
     "output_type": "execute_result"
    }
   ],
   "source": [
    "df.head()"
   ]
  },
  {
   "cell_type": "code",
   "execution_count": 69,
   "id": "cbeb97c2",
   "metadata": {},
   "outputs": [],
   "source": [
    "def combine_values(row):\n",
    "    combined_entities = []\n",
    "    \n",
    "    # Check if the 'start_end_positions_Coprocessor' column contains valid data\n",
    "    if row['start_end_positions'] is not None and len(row['start_end_positions']) > 0:\n",
    "        combined_entities.append(row['start_end_positions'])\n",
    "    \n",
    "    ''' # Check if the 'start_end_positions_Brand' column contains valid data\n",
    "    if row['brand_start_end_positions'] is not None and len(row['brand_start_end_positions']) > 0:\n",
    "        combined_entities.append(row['brand_start_end_positions'])'''\n",
    "\n",
    "    return {'entities': combined_entities}"
   ]
  },
  {
   "cell_type": "code",
   "execution_count": 70,
   "id": "e0e2631b",
   "metadata": {},
   "outputs": [],
   "source": [
    "df['c_entities'] = df.apply(combine_values, axis=1)"
   ]
  },
  {
   "cell_type": "code",
   "execution_count": 71,
   "id": "d9c299a7",
   "metadata": {},
   "outputs": [
    {
     "data": {
      "text/plain": [
       "{'entities': [[17, 31, 'Coprocessor']]}"
      ]
     },
     "execution_count": 71,
     "metadata": {},
     "output_type": "execute_result"
    }
   ],
   "source": [
    "df['c_entities'][0]"
   ]
  },
  {
   "cell_type": "code",
   "execution_count": 72,
   "id": "d1588336",
   "metadata": {},
   "outputs": [],
   "source": [
    "df.to_excel('filtered.xlsx')"
   ]
  },
  {
   "cell_type": "code",
   "execution_count": 53,
   "id": "26a47cb9",
   "metadata": {},
   "outputs": [
    {
     "name": "stdout",
     "output_type": "stream",
     "text": [
      "Max substring: HONKID G\n"
     ]
    }
   ],
   "source": [
    "def max_substring(sentence1, sentence2):\n",
    "    max_sub = \"\"\n",
    "    words2 = sentence2.split()\n",
    "    first_word = words2[0]\n",
    "    \n",
    "    for i in range(len(sentence2)):\n",
    "        for j in range(i + 1, len(sentence2) + 1):\n",
    "            substring = sentence2[i:j]\n",
    "            if first_word in substring and substring in sentence1 and len(substring) > len(max_sub):\n",
    "                max_sub = substring\n",
    "    return max_sub\n",
    "\n",
    "# Example usage:\n",
    "string1 = \"HONKID GPU Support Bracket Graphics Card Sag Brace, Universal VGA Graphics Card Stand Holder with Magnet and Rubber Pad,White\"\n",
    "string2 = \"HONKID Graphics Card Bracket\"\n",
    "print(\"Max substring:\", max_substring(string1, string2))\n"
   ]
  },
  {
   "cell_type": "code",
   "execution_count": 81,
   "id": "60f51e5a",
   "metadata": {},
   "outputs": [
    {
     "data": {
      "text/plain": [
       "Graphics Coprocessor\n",
       "NVIDIA GeForce RTX 4070         30\n",
       "NVIDIA GeForce RTX 3070         30\n",
       "NVIDIA GeForce RTX 3060         28\n",
       "NVIDIA GeForce RTX 4060         26\n",
       "NVIDIA Quadro                   23\n",
       "                                ..\n",
       "Intel Arc A310                   1\n",
       "AMD RX 6600                      1\n",
       "SDRAM                            1\n",
       "NVIDIA GeForce RTX40' Series     1\n",
       "GeForce RTX 2060                 1\n",
       "Name: count, Length: 250, dtype: int64"
      ]
     },
     "execution_count": 81,
     "metadata": {},
     "output_type": "execute_result"
    }
   ],
   "source": [
    "df['Graphics Coprocessor'].value_counts()"
   ]
  },
  {
   "cell_type": "code",
   "execution_count": null,
   "id": "69f4f6eb",
   "metadata": {},
   "outputs": [],
   "source": []
  }
 ],
 "metadata": {
  "kernelspec": {
   "display_name": "Python 3 (ipykernel)",
   "language": "python",
   "name": "python3"
  },
  "language_info": {
   "codemirror_mode": {
    "name": "ipython",
    "version": 3
   },
   "file_extension": ".py",
   "mimetype": "text/x-python",
   "name": "python",
   "nbconvert_exporter": "python",
   "pygments_lexer": "ipython3",
   "version": "3.11.5"
  }
 },
 "nbformat": 4,
 "nbformat_minor": 5
}
